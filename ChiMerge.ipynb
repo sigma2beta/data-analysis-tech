{
 "cells": [
  {
   "cell_type": "markdown",
   "metadata": {},
   "source": [
    "# 分箱--chimerge算法"
   ]
  },
  {
   "cell_type": "markdown",
   "metadata": {},
   "source": [
    "a. chimerge算法是一种有监督的，将连续值离散化的分箱算法\n",
    "\n",
    "b. 基于卡方检验，将两组分布独立（卡方值最小）数据合并"
   ]
  },
  {
   "cell_type": "code",
   "execution_count": null,
   "metadata": {},
   "outputs": [],
   "source": [
    "from time import ctime\n",
    "'''读取数据'''\n",
    "def read(file):\n",
    "    instances = []\n",
    "    fp = open(file,'r')\n",
    "    for line in fp:\n",
    "        line = line.strip('\\n')\n",
    "        if line != '':\n",
    "            instances.append(line.split(','))\n",
    "    fp.close()\n",
    "    return instances"
   ]
  },
  {
   "cell_type": "code",
   "execution_count": 336,
   "metadata": {},
   "outputs": [
    {
     "name": "stdout",
     "output_type": "stream",
     "text": [
      "Start:Fri Aug  7 18:20:32 2020\n",
      "[4.3, 4.9, 5.0, 5.5, 5.8, 7.1]\n",
      "[2.0, 2.5, 2.9, 3.0, 3.4, 3.5]\n",
      "[1.0, 3.0, 4.5, 4.8, 5.0, 5.2]\n",
      "[0.1, 1.0, 1.4, 1.7, 1.8, 1.9]\n",
      "End:Fri Aug  7 18:20:32 2020\n"
     ]
    }
   ],
   "source": [
    "from time import ctime\n",
    "'''将第i个特征和类标签组合起来，如：[[0.2,'Iris-setosa'],……],最后4个连续值属性数据分别成列加入到数组中，如上所示'''\n",
    "def split(instances,i):\n",
    "    log = []\n",
    "    for line in instances:\n",
    "        log.append([line[i],line[4]]) #修改点\n",
    "    return log\n",
    "\n",
    "'''统计每个属性值所具有的实例数量，如[[4.3,'Iris-setosa',1],[4.4,'Iris-setosa',3],……]'''\n",
    "def count(log):\n",
    "    log_cnt = []\n",
    "    #以第0列进行排序，升序排列\n",
    "    log.sort(key = lambda log:log[0])\n",
    "    i = 0\n",
    "    while(i < len(log)):\n",
    "        cnt = log.count(log[i]) #计数log[i]总共的出现次数\n",
    "        record = log[i][:]\n",
    "        record.append(cnt)\n",
    "        log_cnt.append(record)\n",
    "        i += cnt #排序后方便计数，下一个计数值为i+cnt\n",
    "    return log_cnt\n",
    "        \n",
    "'''log_cnt是形如：[2.2, 'versicolor'，3]，统计对某个属性值，对于三个类所含有的数量，\n",
    "    {4.4:[0,1,3],……} 属性为4.4的对三个类实例数分别0，1，3'''\n",
    "def build(log_cnt):\n",
    "    log_dict = {}\n",
    "    for record in log_cnt: #对log_cnt双重数组中取一个数组出来判断，加入特征对应类别的分别记数\n",
    "        if record[0] not in log_dict.keys():\n",
    "            log_dict[record[0]] = [0,0,0]\n",
    "        if record[1] == 'setosa':\n",
    "            log_dict[record[0]][0] = record[2]\n",
    "        elif record[1] == 'versicolor':\n",
    "            log_dict[record[0]][1] = record[2]\n",
    "        elif record[1] == 'virginica':\n",
    "            log_dict[record[0]][2] = record[2]\n",
    "        else:\n",
    "            raise TypeError('Data Exception')\n",
    "    log_tuple = sorted(log_dict.items())\n",
    "    return log_tuple\n",
    "\n",
    "def collect(instances,i):\n",
    "    log = split(instances,i)\n",
    "    log_cnt = count(log)\n",
    "    log_tuple = build(log_cnt)\n",
    "    return log_tuple\n",
    "\n",
    "def combine(a,b):\n",
    "    '''a =(4.4,[3,1,0]), b=(4.5,[1,0,2]) combine(a,b)=(4.4,[4,1,2]) 合并分割点取较小的区间代表值'''\n",
    "    c = a[:]\n",
    "    #表示a[1]的类别个数\n",
    "    for i in range(len(a[1])): \n",
    "        c[1][i] += b[1][i]\n",
    "    return c\n",
    "\n",
    "def chi2(A):\n",
    "    '''计算两个区间的卡方值,[[3,1,0],[1,0,2]]，相邻区间内各个类别的个数'''\n",
    "    m = len(A) #A是一个二重数组，相邻的两个区间，需要合并的区间个数\n",
    "    k = len(A[0]) #特征个数\n",
    "    R = []\n",
    "    '''第i个区间的实例数,卡方列联表的行求和数，2行，A[0]=A[0][0]+……+A[0][1]'''\n",
    "    for i in range(m):\n",
    "        sum = 0\n",
    "        for j in range(k):\n",
    "            sum += A[i][j]\n",
    "        R.append(sum)\n",
    "    C = []\n",
    "    '''第j个类的实例数，卡方列联表的列求和数，3行'''\n",
    "    for j in range(k):\n",
    "        sum = 0\n",
    "        for i in range(m):\n",
    "            sum += A[i][j]\n",
    "        C.append(sum)\n",
    "    N = 0\n",
    "    '''总的实例数'''\n",
    "    for ele in C:\n",
    "        N += ele\n",
    "    res = 0.0\n",
    "    for i in range(m):\n",
    "        for j in range(k):\n",
    "            Eij = 1.0 * R[i] * C[j] /N\n",
    "            if Eij != 0:\n",
    "                res = 1.0*res + 1.0*(A[i][j] - Eij)**2 / Eij\n",
    "    return res\n",
    "\n",
    "def ChiMerge(log_tuple,max_interval):\n",
    "    '''ChiMerge算法\n",
    "    合并一个区间后对相邻区间的卡方值进行重新计算，将相邻区间的最小卡方值做合并'''\n",
    "    num_interval = len(log_tuple) #目前的分区数\n",
    "    while num_interval > max_interval:\n",
    "        num_pair = num_interval - 1\n",
    "        chi_values = []\n",
    "        '''计算相邻区间的卡方值'''\n",
    "        for i in range(num_pair): #1-2,2-3,3-4\n",
    "            arr = [log_tuple[i][1],log_tuple[i+1][1]]\n",
    "            chi_values.append(chi2(arr))\n",
    "        min_chi = min(chi_values)\n",
    "        for i in range(num_pair-1, -1, -1): #倒序，从最开始算，所以要-1，range(3,-1,-1)--[3, 2, 1, 0]\n",
    "            if chi_values[i] == min_chi: #哪一个组卡方值是最小的\n",
    "                log_tuple[i] = combine(log_tuple[i],log_tuple[i+1])\n",
    "                log_tuple[i+1] = 'Merged'\n",
    "        while 'Merged' in log_tuple:\n",
    "            log_tuple.remove('Merged')\n",
    "        num_interval = len(log_tuple)\n",
    "    split_points = [record[0] for record in log_tuple] #分割的样本点\n",
    "    return split_points\n",
    "\n",
    "def discrete(path):\n",
    "    #instances = read(path) 读取文件\n",
    "    instances = a #从sklearn中读取\n",
    "    max_interval = 6 #最多的分组数\n",
    "    num_log = 4 #多少个需要分箱的特征\n",
    "    for i in range(num_log):\n",
    "        log_tuple = collect(instances, i)\n",
    "        split_points = ChiMerge(log_tuple, max_interval)\n",
    "        print(split_points)\n",
    "\n",
    "if __name__ == '__main__':\n",
    "    print('Start:' + ctime())\n",
    "    discrete(a)\n",
    "    print('End:' + ctime())"
   ]
  },
  {
   "cell_type": "markdown",
   "metadata": {},
   "source": [
    "## 实例case"
   ]
  },
  {
   "cell_type": "code",
   "execution_count": 1,
   "metadata": {},
   "outputs": [],
   "source": [
    "import numpy as np\n",
    "from sklearn import datasets\n",
    "iris = datasets.load_iris()"
   ]
  },
  {
   "cell_type": "code",
   "execution_count": 115,
   "metadata": {},
   "outputs": [
    {
     "data": {
      "text/plain": [
       "array(['setosa', 'versicolor', 'virginica'], dtype='<U10')"
      ]
     },
     "execution_count": 115,
     "metadata": {},
     "output_type": "execute_result"
    }
   ],
   "source": [
    "iris.target_names"
   ]
  },
  {
   "cell_type": "code",
   "execution_count": 117,
   "metadata": {},
   "outputs": [],
   "source": [
    "import pandas as pd\n",
    "df1 = pd.DataFrame(data = iris.data, columns = iris.feature_names)\n",
    "df2 = pd.DataFrame(iris.target, columns = ['target'])\n",
    "df = pd.concat([df1,df2],axis = 1) #按列凭接"
   ]
  },
  {
   "cell_type": "code",
   "execution_count": 119,
   "metadata": {},
   "outputs": [
    {
     "name": "stderr",
     "output_type": "stream",
     "text": [
      "/opt/jupyter_deploy/venv3/lib/python3.6/site-packages/pandas/core/indexing.py:205: SettingWithCopyWarning: \n",
      "A value is trying to be set on a copy of a slice from a DataFrame\n",
      "\n",
      "See the caveats in the documentation: http://pandas.pydata.org/pandas-docs/stable/user_guide/indexing.html#returning-a-view-versus-a-copy\n",
      "  self._setitem_with_indexer(indexer, value)\n"
     ]
    }
   ],
   "source": [
    "df['target'].loc[df['target'] == 0] = 'setosa'\n",
    "df['target'].loc[df['target'] == 1] = 'versicolor'\n",
    "df['target'].loc[df['target'] == 2] = 'virginica'"
   ]
  },
  {
   "cell_type": "code",
   "execution_count": 120,
   "metadata": {},
   "outputs": [
    {
     "data": {
      "text/plain": [
       "array([[5.1, 3.5, 1.4, 0.2, 'setosa'],\n",
       "       [4.9, 3.0, 1.4, 0.2, 'setosa'],\n",
       "       [4.7, 3.2, 1.3, 0.2, 'setosa'],\n",
       "       [4.6, 3.1, 1.5, 0.2, 'setosa'],\n",
       "       [5.0, 3.6, 1.4, 0.2, 'setosa'],\n",
       "       [5.4, 3.9, 1.7, 0.4, 'setosa'],\n",
       "       [4.6, 3.4, 1.4, 0.3, 'setosa'],\n",
       "       [5.0, 3.4, 1.5, 0.2, 'setosa'],\n",
       "       [4.4, 2.9, 1.4, 0.2, 'setosa'],\n",
       "       [4.9, 3.1, 1.5, 0.1, 'setosa'],\n",
       "       [5.4, 3.7, 1.5, 0.2, 'setosa'],\n",
       "       [4.8, 3.4, 1.6, 0.2, 'setosa'],\n",
       "       [4.8, 3.0, 1.4, 0.1, 'setosa'],\n",
       "       [4.3, 3.0, 1.1, 0.1, 'setosa'],\n",
       "       [5.8, 4.0, 1.2, 0.2, 'setosa'],\n",
       "       [5.7, 4.4, 1.5, 0.4, 'setosa'],\n",
       "       [5.4, 3.9, 1.3, 0.4, 'setosa'],\n",
       "       [5.1, 3.5, 1.4, 0.3, 'setosa'],\n",
       "       [5.7, 3.8, 1.7, 0.3, 'setosa'],\n",
       "       [5.1, 3.8, 1.5, 0.3, 'setosa'],\n",
       "       [5.4, 3.4, 1.7, 0.2, 'setosa'],\n",
       "       [5.1, 3.7, 1.5, 0.4, 'setosa'],\n",
       "       [4.6, 3.6, 1.0, 0.2, 'setosa'],\n",
       "       [5.1, 3.3, 1.7, 0.5, 'setosa'],\n",
       "       [4.8, 3.4, 1.9, 0.2, 'setosa'],\n",
       "       [5.0, 3.0, 1.6, 0.2, 'setosa'],\n",
       "       [5.0, 3.4, 1.6, 0.4, 'setosa'],\n",
       "       [5.2, 3.5, 1.5, 0.2, 'setosa'],\n",
       "       [5.2, 3.4, 1.4, 0.2, 'setosa'],\n",
       "       [4.7, 3.2, 1.6, 0.2, 'setosa'],\n",
       "       [4.8, 3.1, 1.6, 0.2, 'setosa'],\n",
       "       [5.4, 3.4, 1.5, 0.4, 'setosa'],\n",
       "       [5.2, 4.1, 1.5, 0.1, 'setosa'],\n",
       "       [5.5, 4.2, 1.4, 0.2, 'setosa'],\n",
       "       [4.9, 3.1, 1.5, 0.2, 'setosa'],\n",
       "       [5.0, 3.2, 1.2, 0.2, 'setosa'],\n",
       "       [5.5, 3.5, 1.3, 0.2, 'setosa'],\n",
       "       [4.9, 3.6, 1.4, 0.1, 'setosa'],\n",
       "       [4.4, 3.0, 1.3, 0.2, 'setosa'],\n",
       "       [5.1, 3.4, 1.5, 0.2, 'setosa'],\n",
       "       [5.0, 3.5, 1.3, 0.3, 'setosa'],\n",
       "       [4.5, 2.3, 1.3, 0.3, 'setosa'],\n",
       "       [4.4, 3.2, 1.3, 0.2, 'setosa'],\n",
       "       [5.0, 3.5, 1.6, 0.6, 'setosa'],\n",
       "       [5.1, 3.8, 1.9, 0.4, 'setosa'],\n",
       "       [4.8, 3.0, 1.4, 0.3, 'setosa'],\n",
       "       [5.1, 3.8, 1.6, 0.2, 'setosa'],\n",
       "       [4.6, 3.2, 1.4, 0.2, 'setosa'],\n",
       "       [5.3, 3.7, 1.5, 0.2, 'setosa'],\n",
       "       [5.0, 3.3, 1.4, 0.2, 'setosa'],\n",
       "       [7.0, 3.2, 4.7, 1.4, 'versicolor'],\n",
       "       [6.4, 3.2, 4.5, 1.5, 'versicolor'],\n",
       "       [6.9, 3.1, 4.9, 1.5, 'versicolor'],\n",
       "       [5.5, 2.3, 4.0, 1.3, 'versicolor'],\n",
       "       [6.5, 2.8, 4.6, 1.5, 'versicolor'],\n",
       "       [5.7, 2.8, 4.5, 1.3, 'versicolor'],\n",
       "       [6.3, 3.3, 4.7, 1.6, 'versicolor'],\n",
       "       [4.9, 2.4, 3.3, 1.0, 'versicolor'],\n",
       "       [6.6, 2.9, 4.6, 1.3, 'versicolor'],\n",
       "       [5.2, 2.7, 3.9, 1.4, 'versicolor'],\n",
       "       [5.0, 2.0, 3.5, 1.0, 'versicolor'],\n",
       "       [5.9, 3.0, 4.2, 1.5, 'versicolor'],\n",
       "       [6.0, 2.2, 4.0, 1.0, 'versicolor'],\n",
       "       [6.1, 2.9, 4.7, 1.4, 'versicolor'],\n",
       "       [5.6, 2.9, 3.6, 1.3, 'versicolor'],\n",
       "       [6.7, 3.1, 4.4, 1.4, 'versicolor'],\n",
       "       [5.6, 3.0, 4.5, 1.5, 'versicolor'],\n",
       "       [5.8, 2.7, 4.1, 1.0, 'versicolor'],\n",
       "       [6.2, 2.2, 4.5, 1.5, 'versicolor'],\n",
       "       [5.6, 2.5, 3.9, 1.1, 'versicolor'],\n",
       "       [5.9, 3.2, 4.8, 1.8, 'versicolor'],\n",
       "       [6.1, 2.8, 4.0, 1.3, 'versicolor'],\n",
       "       [6.3, 2.5, 4.9, 1.5, 'versicolor'],\n",
       "       [6.1, 2.8, 4.7, 1.2, 'versicolor'],\n",
       "       [6.4, 2.9, 4.3, 1.3, 'versicolor'],\n",
       "       [6.6, 3.0, 4.4, 1.4, 'versicolor'],\n",
       "       [6.8, 2.8, 4.8, 1.4, 'versicolor'],\n",
       "       [6.7, 3.0, 5.0, 1.7, 'versicolor'],\n",
       "       [6.0, 2.9, 4.5, 1.5, 'versicolor'],\n",
       "       [5.7, 2.6, 3.5, 1.0, 'versicolor'],\n",
       "       [5.5, 2.4, 3.8, 1.1, 'versicolor'],\n",
       "       [5.5, 2.4, 3.7, 1.0, 'versicolor'],\n",
       "       [5.8, 2.7, 3.9, 1.2, 'versicolor'],\n",
       "       [6.0, 2.7, 5.1, 1.6, 'versicolor'],\n",
       "       [5.4, 3.0, 4.5, 1.5, 'versicolor'],\n",
       "       [6.0, 3.4, 4.5, 1.6, 'versicolor'],\n",
       "       [6.7, 3.1, 4.7, 1.5, 'versicolor'],\n",
       "       [6.3, 2.3, 4.4, 1.3, 'versicolor'],\n",
       "       [5.6, 3.0, 4.1, 1.3, 'versicolor'],\n",
       "       [5.5, 2.5, 4.0, 1.3, 'versicolor'],\n",
       "       [5.5, 2.6, 4.4, 1.2, 'versicolor'],\n",
       "       [6.1, 3.0, 4.6, 1.4, 'versicolor'],\n",
       "       [5.8, 2.6, 4.0, 1.2, 'versicolor'],\n",
       "       [5.0, 2.3, 3.3, 1.0, 'versicolor'],\n",
       "       [5.6, 2.7, 4.2, 1.3, 'versicolor'],\n",
       "       [5.7, 3.0, 4.2, 1.2, 'versicolor'],\n",
       "       [5.7, 2.9, 4.2, 1.3, 'versicolor'],\n",
       "       [6.2, 2.9, 4.3, 1.3, 'versicolor'],\n",
       "       [5.1, 2.5, 3.0, 1.1, 'versicolor'],\n",
       "       [5.7, 2.8, 4.1, 1.3, 'versicolor'],\n",
       "       [6.3, 3.3, 6.0, 2.5, 'virginica'],\n",
       "       [5.8, 2.7, 5.1, 1.9, 'virginica'],\n",
       "       [7.1, 3.0, 5.9, 2.1, 'virginica'],\n",
       "       [6.3, 2.9, 5.6, 1.8, 'virginica'],\n",
       "       [6.5, 3.0, 5.8, 2.2, 'virginica'],\n",
       "       [7.6, 3.0, 6.6, 2.1, 'virginica'],\n",
       "       [4.9, 2.5, 4.5, 1.7, 'virginica'],\n",
       "       [7.3, 2.9, 6.3, 1.8, 'virginica'],\n",
       "       [6.7, 2.5, 5.8, 1.8, 'virginica'],\n",
       "       [7.2, 3.6, 6.1, 2.5, 'virginica'],\n",
       "       [6.5, 3.2, 5.1, 2.0, 'virginica'],\n",
       "       [6.4, 2.7, 5.3, 1.9, 'virginica'],\n",
       "       [6.8, 3.0, 5.5, 2.1, 'virginica'],\n",
       "       [5.7, 2.5, 5.0, 2.0, 'virginica'],\n",
       "       [5.8, 2.8, 5.1, 2.4, 'virginica'],\n",
       "       [6.4, 3.2, 5.3, 2.3, 'virginica'],\n",
       "       [6.5, 3.0, 5.5, 1.8, 'virginica'],\n",
       "       [7.7, 3.8, 6.7, 2.2, 'virginica'],\n",
       "       [7.7, 2.6, 6.9, 2.3, 'virginica'],\n",
       "       [6.0, 2.2, 5.0, 1.5, 'virginica'],\n",
       "       [6.9, 3.2, 5.7, 2.3, 'virginica'],\n",
       "       [5.6, 2.8, 4.9, 2.0, 'virginica'],\n",
       "       [7.7, 2.8, 6.7, 2.0, 'virginica'],\n",
       "       [6.3, 2.7, 4.9, 1.8, 'virginica'],\n",
       "       [6.7, 3.3, 5.7, 2.1, 'virginica'],\n",
       "       [7.2, 3.2, 6.0, 1.8, 'virginica'],\n",
       "       [6.2, 2.8, 4.8, 1.8, 'virginica'],\n",
       "       [6.1, 3.0, 4.9, 1.8, 'virginica'],\n",
       "       [6.4, 2.8, 5.6, 2.1, 'virginica'],\n",
       "       [7.2, 3.0, 5.8, 1.6, 'virginica'],\n",
       "       [7.4, 2.8, 6.1, 1.9, 'virginica'],\n",
       "       [7.9, 3.8, 6.4, 2.0, 'virginica'],\n",
       "       [6.4, 2.8, 5.6, 2.2, 'virginica'],\n",
       "       [6.3, 2.8, 5.1, 1.5, 'virginica'],\n",
       "       [6.1, 2.6, 5.6, 1.4, 'virginica'],\n",
       "       [7.7, 3.0, 6.1, 2.3, 'virginica'],\n",
       "       [6.3, 3.4, 5.6, 2.4, 'virginica'],\n",
       "       [6.4, 3.1, 5.5, 1.8, 'virginica'],\n",
       "       [6.0, 3.0, 4.8, 1.8, 'virginica'],\n",
       "       [6.9, 3.1, 5.4, 2.1, 'virginica'],\n",
       "       [6.7, 3.1, 5.6, 2.4, 'virginica'],\n",
       "       [6.9, 3.1, 5.1, 2.3, 'virginica'],\n",
       "       [5.8, 2.7, 5.1, 1.9, 'virginica'],\n",
       "       [6.8, 3.2, 5.9, 2.3, 'virginica'],\n",
       "       [6.7, 3.3, 5.7, 2.5, 'virginica'],\n",
       "       [6.7, 3.0, 5.2, 2.3, 'virginica'],\n",
       "       [6.3, 2.5, 5.0, 1.9, 'virginica'],\n",
       "       [6.5, 3.0, 5.2, 2.0, 'virginica'],\n",
       "       [6.2, 3.4, 5.4, 2.3, 'virginica'],\n",
       "       [5.9, 3.0, 5.1, 1.8, 'virginica']], dtype=object)"
      ]
     },
     "execution_count": 120,
     "metadata": {},
     "output_type": "execute_result"
    }
   ],
   "source": [
    "a = np.array(df)\n",
    "a #变成array类型操作"
   ]
  },
  {
   "cell_type": "code",
   "execution_count": 57,
   "metadata": {},
   "outputs": [
    {
     "data": {
      "text/plain": [
       "[4.3, 'setosa']"
      ]
     },
     "execution_count": 57,
     "metadata": {},
     "output_type": "execute_result"
    }
   ],
   "source": [
    "log = []\n",
    "for line in a:\n",
    "    log.append([line[0],line[4]])\n",
    "\n",
    "log.sort(key = lambda log: log[0])\n",
    "log[0]"
   ]
  },
  {
   "cell_type": "code",
   "execution_count": 176,
   "metadata": {},
   "outputs": [],
   "source": [
    "for i in range(len(df['sepal length (cm)'])):\n",
    "    if df.iloc[i,0] < 4.9:\n",
    "        df.iloc[i,0] = '[4.3, 4.9)'\n",
    "    elif (df.iloc[i,0]>=4.9) & (df.iloc[i,0] < 5.0):\n",
    "        df.iloc[i,0] = '[4.9, 5.0)'\n",
    "    elif (df.iloc[i,0]>=5.0) & (df.iloc[i,0] < 5.5):\n",
    "        df.iloc[i,0] = '[5.0, 5.5)'\n",
    "    elif (df.iloc[i,0]>=5.5) & (df.iloc[i,0] < 5.8):\n",
    "        df.iloc[i,0] = '[5.5, 5.8)'\n",
    "    elif (df.iloc[i,0]>=5.8) & (df.iloc[i,0] < 7.1):\n",
    "        df.iloc[i,0] = '[5.8, 7.1)'\n",
    "    elif df.iloc[i,0]>=7.1:\n",
    "        df.iloc[i,0] = '[7.1, inf)'"
   ]
  },
  {
   "cell_type": "code",
   "execution_count": 111,
   "metadata": {},
   "outputs": [
    {
     "data": {
      "text/plain": [
       "0                     (5.0, 5.6]\n",
       "1      (4.2989999999999995, 5.0]\n",
       "2      (4.2989999999999995, 5.0]\n",
       "3      (4.2989999999999995, 5.0]\n",
       "4      (4.2989999999999995, 5.0]\n",
       "                 ...            \n",
       "145                  (6.52, 7.9]\n",
       "146                  (6.1, 6.52]\n",
       "147                  (6.1, 6.52]\n",
       "148                  (6.1, 6.52]\n",
       "149                   (5.6, 6.1]\n",
       "Name: sepal length (cm), Length: 150, dtype: category\n",
       "Categories (5, interval[float64]): [(4.2989999999999995, 5.0] < (5.0, 5.6] < (5.6, 6.1] < (6.1, 6.52] < (6.52, 7.9]]"
      ]
     },
     "execution_count": 111,
     "metadata": {},
     "output_type": "execute_result"
    }
   ],
   "source": [
    "#等频分箱函数\n",
    "pd.qcut(df['sepal length (cm)'],5,duplicates='drop')"
   ]
  },
  {
   "cell_type": "markdown",
   "metadata": {},
   "source": [
    "# IV值"
   ]
  },
  {
   "cell_type": "code",
   "execution_count": 290,
   "metadata": {},
   "outputs": [],
   "source": [
    "'''df-数据集 df_Xvar-待分析的变量 Yvar-目标值 bin_cols-需要进行分箱的变量,计算IV值的任何一个分箱不能有0'''\n",
    "\n",
    "def IV(X, Y):\n",
    "    '''\n",
    "    当类别不止两类可用字典存储类别值\n",
    "    N = {}\n",
    "    for res in np.unique(df[0]):\n",
    "        if res not in N.keys():\n",
    "            N[res] = np.sum(df[0]==res)\n",
    "    N_setosa = N['setosa']\n",
    "    N_versicolor = N['versicolor']\n",
    "    N_virginica = N['virginica']\n",
    "    '''\n",
    "    N_0 = np.sum(Y=='KA')\n",
    "    N_1 = np.sum(Y=='LA')\n",
    "    #N_0 = np.sum(Y=='setosa')\n",
    "    #N_1 = np.sum(Y=='versicolor')\n",
    "    N_0_group = np.zeros(np.unique(X).shape)\n",
    "    N_1_group = np.zeros(np.unique(X).shape)\n",
    "    for i in range(len(np.unique(X))): #对每一个分组\n",
    "        N_0_group[i] = Y[(X == np.unique(X)[i]) & (Y == 'KA')].count() #X某一个分组，目标值为Y==0的数量\n",
    "        N_1_group[i] = Y[(X == np.unique(X)[i]) & (Y == 'LA')].count()\n",
    "    iv = np.sum((1.0*N_0_group/N_0 - 1.0*N_1_group/N_1) * np.log((1.0*N_0_group/N_0)/(1.0*N_1_group/N_1)))\n",
    "    return iv\n",
    "\n",
    "def caliv_batch(df, df_X, Y, bin_cols,n):\n",
    "    ivlist = []\n",
    "    for col in df_X.columns:\n",
    "        if col in bin_cols:\n",
    "            iv = IV(pd.qcut(df[col],n,duplicates='drop'),Y) #等频分箱,需要做分箱处理的\n",
    "        else:\n",
    "            iv = IV(df[col],Y)\n",
    "        ivlist.append(iv)\n",
    "    names = list(df_X.columns)\n",
    "    iv_df = pd.DataFrame({'Var':names,'Iv':ivlist},columns=['Var','Iv'])\n",
    "    return iv_df   "
   ]
  },
  {
   "cell_type": "markdown",
   "metadata": {},
   "source": [
    "## 测试case"
   ]
  },
  {
   "cell_type": "code",
   "execution_count": 269,
   "metadata": {},
   "outputs": [],
   "source": [
    "df1 = df[:100]\n",
    "df1_X = df1.iloc[:,1:4]\n",
    "Y = df1.iloc[:,-1]\n",
    "bin_cols2 = ['sepal width (cm)','petal length (cm)','petal width (cm)']"
   ]
  },
  {
   "cell_type": "code",
   "execution_count": 287,
   "metadata": {},
   "outputs": [
    {
     "name": "stderr",
     "output_type": "stream",
     "text": [
      "/opt/jupyter_deploy/venv3/lib/python3.6/site-packages/ipykernel_launcher.py:23: RuntimeWarning: divide by zero encountered in true_divide\n",
      "/opt/jupyter_deploy/venv3/lib/python3.6/site-packages/ipykernel_launcher.py:23: RuntimeWarning: divide by zero encountered in log\n"
     ]
    },
    {
     "data": {
      "text/html": [
       "<div>\n",
       "<style scoped>\n",
       "    .dataframe tbody tr th:only-of-type {\n",
       "        vertical-align: middle;\n",
       "    }\n",
       "\n",
       "    .dataframe tbody tr th {\n",
       "        vertical-align: top;\n",
       "    }\n",
       "\n",
       "    .dataframe thead th {\n",
       "        text-align: right;\n",
       "    }\n",
       "</style>\n",
       "<table border=\"1\" class=\"dataframe\">\n",
       "  <thead>\n",
       "    <tr style=\"text-align: right;\">\n",
       "      <th></th>\n",
       "      <th>Var</th>\n",
       "      <th>Iv</th>\n",
       "    </tr>\n",
       "  </thead>\n",
       "  <tbody>\n",
       "    <tr>\n",
       "      <th>0</th>\n",
       "      <td>sepal width (cm)</td>\n",
       "      <td>3.878655</td>\n",
       "    </tr>\n",
       "    <tr>\n",
       "      <th>1</th>\n",
       "      <td>petal length (cm)</td>\n",
       "      <td>inf</td>\n",
       "    </tr>\n",
       "    <tr>\n",
       "      <th>2</th>\n",
       "      <td>petal width (cm)</td>\n",
       "      <td>inf</td>\n",
       "    </tr>\n",
       "  </tbody>\n",
       "</table>\n",
       "</div>"
      ],
      "text/plain": [
       "                 Var        Iv\n",
       "0   sepal width (cm)  3.878655\n",
       "1  petal length (cm)       inf\n",
       "2   petal width (cm)       inf"
      ]
     },
     "execution_count": 287,
     "metadata": {},
     "output_type": "execute_result"
    }
   ],
   "source": [
    "caliv_batch(df1,df1_X,Y,bin_cols2,3)"
   ]
  },
  {
   "cell_type": "code",
   "execution_count": 259,
   "metadata": {},
   "outputs": [],
   "source": [
    "re = pd.read_csv('archived-data/aeolus-data/20200707/12/25092081-暗投监控逻辑-cost监控-查询23.csv',encoding = 'gb18030')"
   ]
  },
  {
   "cell_type": "code",
   "execution_count": 301,
   "metadata": {},
   "outputs": [],
   "source": [
    "Y = re.iloc[:,3]\n",
    "re_X = pd.concat([re.iloc[:,4],re.iloc[:,8],re.iloc[:,9]],axis=1)\n",
    "bin_cols = ['cost']"
   ]
  },
  {
   "cell_type": "code",
   "execution_count": 309,
   "metadata": {},
   "outputs": [
    {
     "name": "stderr",
     "output_type": "stream",
     "text": [
      "/opt/jupyter_deploy/venv3/lib/python3.6/site-packages/ipykernel_launcher.py:23: RuntimeWarning: divide by zero encountered in true_divide\n"
     ]
    },
    {
     "data": {
      "text/html": [
       "<div>\n",
       "<style scoped>\n",
       "    .dataframe tbody tr th:only-of-type {\n",
       "        vertical-align: middle;\n",
       "    }\n",
       "\n",
       "    .dataframe tbody tr th {\n",
       "        vertical-align: top;\n",
       "    }\n",
       "\n",
       "    .dataframe thead th {\n",
       "        text-align: right;\n",
       "    }\n",
       "</style>\n",
       "<table border=\"1\" class=\"dataframe\">\n",
       "  <thead>\n",
       "    <tr style=\"text-align: right;\">\n",
       "      <th></th>\n",
       "      <th>Var</th>\n",
       "      <th>Iv</th>\n",
       "    </tr>\n",
       "  </thead>\n",
       "  <tbody>\n",
       "    <tr>\n",
       "      <th>0</th>\n",
       "      <td>industry_nm</td>\n",
       "      <td>inf</td>\n",
       "    </tr>\n",
       "    <tr>\n",
       "      <th>1</th>\n",
       "      <td>flag</td>\n",
       "      <td>0.028078</td>\n",
       "    </tr>\n",
       "    <tr>\n",
       "      <th>2</th>\n",
       "      <td>cost</td>\n",
       "      <td>0.203964</td>\n",
       "    </tr>\n",
       "  </tbody>\n",
       "</table>\n",
       "</div>"
      ],
      "text/plain": [
       "           Var        Iv\n",
       "0  industry_nm       inf\n",
       "1         flag  0.028078\n",
       "2         cost  0.203964"
      ]
     },
     "execution_count": 309,
     "metadata": {},
     "output_type": "execute_result"
    }
   ],
   "source": [
    "caliv_batch(re,re_X,Y,bin_cols,5)"
   ]
  },
  {
   "cell_type": "code",
   "execution_count": null,
   "metadata": {},
   "outputs": [],
   "source": []
  }
 ],
 "metadata": {
  "kernelspec": {
   "display_name": "Python 3",
   "language": "python",
   "name": "python3"
  },
  "language_info": {
   "codemirror_mode": {
    "name": "ipython",
    "version": 3
   },
   "file_extension": ".py",
   "mimetype": "text/x-python",
   "name": "python",
   "nbconvert_exporter": "python",
   "pygments_lexer": "ipython3",
   "version": "3.6.5"
  },
  "toc": {
   "base_numbering": 1,
   "nav_menu": {},
   "number_sections": true,
   "sideBar": true,
   "skip_h1_title": false,
   "title_cell": "Table of Contents",
   "title_sidebar": "Contents",
   "toc_cell": false,
   "toc_position": {},
   "toc_section_display": true,
   "toc_window_display": false
  }
 },
 "nbformat": 4,
 "nbformat_minor": 4
}
